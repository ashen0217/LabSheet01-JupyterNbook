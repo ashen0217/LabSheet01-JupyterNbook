{
 "cells": [
  {
   "cell_type": "code",
   "execution_count": null,
   "id": "016a1f7f-64c8-4981-b8f3-05db4e46d152",
   "metadata": {},
   "outputs": [],
   "source": [
    "import pandas as pd\n",
    "import numpy as np\n",
    "from apyori import apriori"
   ]
  },
  {
   "cell_type": "code",
   "execution_count": null,
   "id": "e22083eb-7ab8-4ae7-a7f8-240cad47d3db",
   "metadata": {},
   "outputs": [],
   "source": [
    "air_flightData = pd.read_csv(\"airlines_flights_data.csv\")"
   ]
  },
  {
   "cell_type": "code",
   "execution_count": null,
   "id": "27b6947d-290b-49e3-a887-56e192b9a4bd",
   "metadata": {},
   "outputs": [],
   "source": [
    "print(\"Airline Data:\",air_flightData.shape)"
   ]
  },
  {
   "cell_type": "code",
   "execution_count": null,
   "id": "a282befb-70b9-4939-88c9-e402174cee33",
   "metadata": {},
   "outputs": [],
   "source": [
    "air_flightData.head()"
   ]
  },
  {
   "cell_type": "code",
   "execution_count": null,
   "id": "553cee75-ac91-4b06-b6f4-52606a3b9a7f",
   "metadata": {},
   "outputs": [],
   "source": [
    "air_flightData.dtypes"
   ]
  },
  {
   "cell_type": "code",
   "execution_count": null,
   "id": "2790da1e-81e0-40d9-9ac5-da7028912abb",
   "metadata": {},
   "outputs": [],
   "source": [
    "# Extract first 8784 rows and first 7 columns\n",
    "records = air_flightData.iloc[1:8785, :7].astype(str).values.tolist()\n",
    "\n",
    "# Display the records (use display() if you're in a notebook)\n",
    "for record in records:\n",
    "    print(record)\n"
   ]
  },
  {
   "cell_type": "code",
   "execution_count": null,
   "id": "4fdb12d0-7143-400d-8d69-7bdc363b6f4f",
   "metadata": {},
   "outputs": [],
   "source": []
  }
 ],
 "metadata": {
  "kernelspec": {
   "display_name": "Python 3 (ipykernel)",
   "language": "python",
   "name": "python3"
  },
  "language_info": {
   "codemirror_mode": {
    "name": "ipython",
    "version": 3
   },
   "file_extension": ".py",
   "mimetype": "text/x-python",
   "name": "python",
   "nbconvert_exporter": "python",
   "pygments_lexer": "ipython3",
   "version": "3.13.5"
  }
 },
 "nbformat": 4,
 "nbformat_minor": 5
}
